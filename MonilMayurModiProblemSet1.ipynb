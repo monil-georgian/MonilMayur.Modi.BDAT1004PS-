{
 "cells": [
  {
   "cell_type": "markdown",
   "metadata": {},
   "source": [
    "## Question 1\n",
    "\n",
    "What data type is each of the following?"
   ]
  },
  {
   "cell_type": "code",
   "execution_count": 12,
   "metadata": {},
   "outputs": [
    {
     "name": "stdout",
     "output_type": "stream",
     "text": [
      "5 is <class 'int'>\n",
      "5.0 is <class 'float'>\n",
      "5 > 1 is <class 'bool'>\n",
      "'5' is <class 'str'>\n",
      "5 * 2 is <class 'int'>\n",
      "'5' * 2 is <class 'str'>\n",
      "'5' + '2' is <class 'str'>\n",
      "5 / 2 is <class 'float'>\n",
      "5 // 2 is <class 'int'>\n",
      "[5, 2, 1] is <class 'list'>\n",
      "5 in [1, 4, 6] is <class 'bool'> \n",
      "math.pi is <class 'float'>\n"
     ]
    }
   ],
   "source": [
    "print(\"5 is {}\".format(type(5)))\n",
    "\n",
    "print(\"5.0 is {}\".format(type(5.0)))\n",
    "\n",
    "print(\"5 > 1 is {}\".format(type(5 > 1)))\n",
    "\n",
    "print(\"'5' is {}\".format(type('5')))\n",
    "\n",
    "print(\"5 * 2 is {}\".format(type(5 * 2)))\n",
    "\n",
    "print(\"'5' * 2 is {}\".format(type('5' * 2)))\n",
    "\n",
    "print(\"'5' + '2' is {}\".format(type('5' + '2')))\n",
    "\n",
    "print(\"5 / 2 is {}\".format(type(5 / 2)))\n",
    "\n",
    "print(\"5 // 2 is {}\".format(type(5 // 2)))\n",
    "\n",
    "print(\"[5, 2, 1] is {}\".format(type([5, 2, 1])))\n",
    "\n",
    "print(\"5 in [1, 4, 6] is {} \".format(type(5 in [1, 4, 6])))\n",
    "\n",
    "import math\n",
    "print(\"math.pi is {}\".format(type(math.pi)))"
   ]
  },
  {
   "cell_type": "markdown",
   "metadata": {},
   "source": [
    "## Question 2\n",
    "\n",
    "Write (and evaluate) Python expressions that answer these questions: <br>\n",
    "a. How many letters are there in 'Supercalifragilisticexpialidocious'? <br>\n",
    "b. Does 'Supercalifragilisticexpialidocious' contain 'ice' as a substring? <br>\n",
    "c. Which of the following words is the longest: Supercalifragilisticexpialidocious, Honorificabilitudinitatibus, or Bababadalgharaghtakamminarronnkonn? <br>\n",
    "d. Which composer comes first in the dictionary: 'Berlioz', 'Borodin', 'Brian', 'Bartok', 'Bellini', 'Buxtehude', 'Bernstein'. Which one comes last?"
   ]
  },
  {
   "cell_type": "code",
   "execution_count": 14,
   "metadata": {},
   "outputs": [
    {
     "data": {
      "text/plain": [
       "34"
      ]
     },
     "execution_count": 14,
     "metadata": {},
     "output_type": "execute_result"
    }
   ],
   "source": [
    "#2a - check the number of letters in a string\n",
    "\n",
    "s = 'Supercalifragilisticexpialidocious'\n",
    "len(s)"
   ]
  },
  {
   "cell_type": "code",
   "execution_count": 15,
   "metadata": {
    "scrolled": true
   },
   "outputs": [
    {
     "data": {
      "text/plain": [
       "True"
      ]
     },
     "execution_count": 15,
     "metadata": {},
     "output_type": "execute_result"
    }
   ],
   "source": [
    "#2b - check if a string contain a word as a substring\n",
    "\n",
    "s = 'Supercalifragilisticexpialidocious'\n",
    "'ice' in s"
   ]
  },
  {
   "cell_type": "code",
   "execution_count": 15,
   "metadata": {},
   "outputs": [
    {
     "name": "stdout",
     "output_type": "stream",
     "text": [
      "The longest word is Bababadalgharaghtakamminarronnkonn\n"
     ]
    }
   ],
   "source": [
    "#2c - finding the longest string amongst 3 strings\n",
    "\n",
    "s = 'Supercalifragilisticexpialidocious'\n",
    "s2 = 'Honorificabilitudinitatibus'\n",
    "s3 = 'Bababadalgharaghtakamminarronnkonn'\n",
    "#get length of each string\n",
    "ls = len(s)\n",
    "ls2 = len(s2)\n",
    "ls3 = len(s3)\n",
    "\n",
    "#check which of the 3 string is the longest\n",
    "if ls>ls2 & ls>ls3 :\n",
    "    print(\"The longest word is \" + s)\n",
    "elif ls2>ls & ls2>ls3 :\n",
    "    print(\"The longest word is \" + s2)\n",
    "else:\n",
    "    print(\"The longest word is \" + s3)"
   ]
  },
  {
   "cell_type": "code",
   "execution_count": 18,
   "metadata": {},
   "outputs": [
    {
     "name": "stdout",
     "output_type": "stream",
     "text": [
      "The first composer in dictionary : Bartok\n",
      "The last composer in dictionary : Buxtehude\n"
     ]
    }
   ],
   "source": [
    "#2d - find first and last composer in the dictionary\n",
    "\n",
    "composers = [\"Berlioz\", \"Borodin\", \"Brian\", \"Bartok\", \"Bellini\", \"Buxtehude\", \"Bernstein\"]\n",
    "\n",
    "#sort the composers alphabetically\n",
    "dictionary = sorted(composers)\n",
    "first = dictionary[0]\n",
    "print (\"The first composer in dictionary : \" +  str(first))\n",
    "last = dictionary[-1]\n",
    "print (\"The last composer in dictionary : \" +  str(last)) "
   ]
  },
  {
   "cell_type": "markdown",
   "metadata": {},
   "source": [
    "## Question 3\n",
    "\n",
    "a. Write a function inside(x,y,x1,y1,x2,y2) that returns True or False depending on whether the point (x,y) lies in the rectangle with lower left corner (x1,y1) and upper right corner (x2,y2). <br>\n",
    "b. Use function inside() from part a. to write an expression that tests whether the point (1,1) lies in both of the following rectangles: one with lower left corner (0.3, 0.5) and upper right corner (1.1, 0.7) and the other with lower left corner (0.5, 0.2) and upper right corner (1.1, 2)."
   ]
  },
  {
   "cell_type": "code",
   "execution_count": 28,
   "metadata": {},
   "outputs": [
    {
     "name": "stdout",
     "output_type": "stream",
     "text": [
      "The point lies inside the rectangle: True\n",
      "The point lies inside the rectangle: False\n"
     ]
    }
   ],
   "source": [
    "#3a - check if point(x,y) falls inside the rectangle with lower left(x1,y1) and upper right corner(x2,y2)\n",
    "\n",
    "def inside(x, y, x1, y1, x2, y2):\n",
    "    if (x > x1 and x < x2 and y > y1 and y < y2) : \n",
    "        return True\n",
    "    else:\n",
    "        return False\n",
    "\n",
    "#inside(1,1,0,0,2,3)    \n",
    "print (\"The point lies inside the rectangle: \" + str(inside(1,1,0,0,2,3)))\n",
    "\n",
    "#inside(-1,-1,0,0,2,3)\n",
    "print (\"The point lies inside the rectangle: \" + str(inside(-1,-1,0,0,2,3)))"
   ]
  },
  {
   "cell_type": "code",
   "execution_count": 35,
   "metadata": {},
   "outputs": [
    {
     "name": "stdout",
     "output_type": "stream",
     "text": [
      "The point does not lie in both the rectangles\n"
     ]
    }
   ],
   "source": [
    "#3b - check whether a point lies in both rectangles\n",
    "\n",
    "rect1 = inside(1,1,0.3,0.5,1.1,0.7)\n",
    "\n",
    "rect2 = inside(1,1,0.5,0.2,1.1,2)\n",
    "\n",
    "if rect1 == True & rect2 == True:\n",
    "    print(\"The point lies in both the rectangles\")\n",
    "else:\n",
    "    print(\"The point does not lie in both the rectangles\")"
   ]
  },
  {
   "cell_type": "markdown",
   "metadata": {},
   "source": [
    "## Question 4\n",
    "\n",
    "You can turn a word into pig-Latin using the following two rules (simplified): <br>\n",
    "• If the word starts with a consonant, move that letter to the end and append 'ay'. For example, 'happy' becomes 'appyhay' and 'pencil' becomes 'encilpay'. <br>\n",
    "• If the word starts with a vowel, simply append 'way' to the end of the word. For example, 'enter' becomes 'enterway' and 'other' becomes 'otherway' . For our purposes, there are 5 vowels: a, e, i, o, u (so we count y as a consonant). <br>\n",
    "Write a function pig() that takes a word (i.e., a string) as input and returns its pig-Latin form. Your function should still work if the input word contains upper case characters. Your output should always be lower case however."
   ]
  },
  {
   "cell_type": "code",
   "execution_count": 40,
   "metadata": {},
   "outputs": [
    {
     "name": "stdout",
     "output_type": "stream",
     "text": [
      "appyhay\n",
      "enterway\n"
     ]
    }
   ],
   "source": [
    "#convert a word in its pig-Latin form\n",
    "\n",
    "#define vowels in lower and upper case as users can enter words in any case\n",
    "vowels = ('A', 'a', 'E', 'e', 'I', 'i', 'O', 'o', 'U', 'u')\n",
    "\n",
    "def pig(s):\n",
    "    #check if 1st letter is consonant or vowel\n",
    "    if (s[0] in vowels):\n",
    "        #append \"way\" at the end of the word and give output in lower case\n",
    "        print((s + 'way').lower())\n",
    "    else:\n",
    "        #slice after 1st letter and append the 1st letter and \"ay\" after the slice and give output in lower case\n",
    "        print((s[1:] + s[0] + 'ay').lower())\n",
    "\n",
    "pig('happy')\n",
    "\n",
    "pig('Enter')"
   ]
  },
  {
   "cell_type": "markdown",
   "metadata": {},
   "source": [
    "## Question 5\n",
    "\n",
    "File bloodtype1.txt records blood-types of patients (A, B, AB, O or OO) at a clinic. Write a function bldcount() that reads the file with name name and reports (i.e., prints) how many patients there are in each bloodtype."
   ]
  },
  {
   "cell_type": "code",
   "execution_count": 66,
   "metadata": {},
   "outputs": [
    {
     "name": "stdout",
     "output_type": "stream",
     "text": [
      "There are 15 patients of blood type A.\n",
      "There are 1 patient of blood type B.\n",
      "There are 13 patients of blood type AB.\n",
      "There are 15 patients of blood type O.\n",
      "There are 0 patients of blood type OO.\n"
     ]
    }
   ],
   "source": [
    "#read the file with name 'name' and report the number of patients there are in each bloodtype\n",
    "\n",
    "def bldcount(name):\n",
    "    with open (name, 'r') as bld:\n",
    "        #split words using space delimiter and create list \"type\"\n",
    "        type=(bld.read().split(' '))\n",
    "    bld.close()\n",
    "    \n",
    "    #count the occurrence of each blood type\n",
    "    ouc = type.count('A')\n",
    "    print('There are {} patients of blood type A.'.format(ouc))\n",
    "    \n",
    "    ouc = type.count('B')\n",
    "    print('There are {} patient of blood type B.'.format(ouc))\n",
    "    \n",
    "    ouc = type.count('AB')\n",
    "    print('There are {} patients of blood type AB.'.format(ouc))\n",
    "    \n",
    "    ouc = type.count('O')\n",
    "    print('There are {} patients of blood type O.'.format(ouc))\n",
    "    \n",
    "    ouc = type.count('OO')\n",
    "    print('There are {} patients of blood type OO.'.format(ouc))\n",
    "\n",
    "bldcount('bloodtype.txt')"
   ]
  },
  {
   "cell_type": "markdown",
   "metadata": {},
   "source": [
    "## Question 6\n",
    "\n",
    "Write a function curconv() that takes as input: <br>\n",
    "1. a currency represented using a string (e.g., 'JPY' for the Japanese Yen or 'EUR' for the Euro) <br>\n",
    "2. an amount <br>\n",
    "and then converts and returns the amount in US dollars."
   ]
  },
  {
   "cell_type": "code",
   "execution_count": 5,
   "metadata": {},
   "outputs": [
    {
     "name": "stdout",
     "output_type": "stream",
     "text": [
      "The converted amount in USD is 122.96544\n",
      "The converted amount in USD is 1.241401\n"
     ]
    }
   ],
   "source": [
    "#convert the amount in given currency to USD\n",
    "\n",
    "def curconv(cur,amt):\n",
    "    raw_data=[]\n",
    "    with open ('currencies.txt','r') as fin:\n",
    "        #split words using space delimiter and add to list raw_data\n",
    "        for line in fin:\n",
    "            f=(line.split(' '))\n",
    "            raw_data.append(f)\n",
    "        fin.close()\n",
    "    for i in range(len(raw_data)):\n",
    "        #match the input currency with values in list and fetch conversion value from the second column\n",
    "            if cur == raw_data[i][0]:\n",
    "                final = float(raw_data[i][1])\n",
    "                final = final*amt\n",
    "                return final \n",
    "            \n",
    "usd = curconv('EUR',100)\n",
    "print(\"The converted amount in USD is \" + str(usd))\n",
    "\n",
    "usd = curconv('JPY',100)\n",
    "print(\"The converted amount in USD is \" + str(usd))"
   ]
  },
  {
   "cell_type": "markdown",
   "metadata": {},
   "source": [
    "## Question 7\n",
    "\n",
    "Each of the following will cause an exception (an error). Identify what type of exception each will cause. <br>\n",
    "a) Trying to add incompatible variables, as in adding 6 + ‘a’ <br>\n",
    "b) Referring to the 12th item of a list that has only 10 items <br>\n",
    "c) Using a value that is out of range for a function’s input, such as calling math.sqrt( 1.0) <br>\n",
    "d) Using an undeclared variable, such as print(x) when x has not been defined <br>\n",
    "e) Trying to open a file that does not exist, such as mistyping the file name or looking in the wrong directory. "
   ]
  },
  {
   "cell_type": "code",
   "execution_count": 29,
   "metadata": {},
   "outputs": [
    {
     "ename": "SyntaxError",
     "evalue": "invalid character in identifier (<ipython-input-29-b1fb858b01cc>, line 1)",
     "output_type": "error",
     "traceback": [
      "\u001b[1;36m  File \u001b[1;32m\"<ipython-input-29-b1fb858b01cc>\"\u001b[1;36m, line \u001b[1;32m1\u001b[0m\n\u001b[1;33m    b = 6 + ‘a’\u001b[0m\n\u001b[1;37m              ^\u001b[0m\n\u001b[1;31mSyntaxError\u001b[0m\u001b[1;31m:\u001b[0m invalid character in identifier\n"
     ]
    }
   ],
   "source": [
    "#7a - Trying to add incompatible variables\n",
    "\n",
    "b = 6 + ‘a’\n",
    "print(b)"
   ]
  },
  {
   "cell_type": "code",
   "execution_count": 30,
   "metadata": {},
   "outputs": [
    {
     "ename": "IndexError",
     "evalue": "list index out of range",
     "output_type": "error",
     "traceback": [
      "\u001b[1;31m---------------------------------------------------------------------------\u001b[0m",
      "\u001b[1;31mIndexError\u001b[0m                                Traceback (most recent call last)",
      "\u001b[1;32m<ipython-input-30-d8089c3e9ba3>\u001b[0m in \u001b[0;36m<module>\u001b[1;34m\u001b[0m\n\u001b[0;32m      1\u001b[0m \u001b[0mc\u001b[0m\u001b[1;33m=\u001b[0m\u001b[1;33m[\u001b[0m\u001b[1;36m1\u001b[0m\u001b[1;33m,\u001b[0m\u001b[1;36m2\u001b[0m\u001b[1;33m,\u001b[0m\u001b[1;36m3\u001b[0m\u001b[1;33m,\u001b[0m\u001b[1;36m4\u001b[0m\u001b[1;33m,\u001b[0m\u001b[1;36m5\u001b[0m\u001b[1;33m,\u001b[0m\u001b[1;36m6\u001b[0m\u001b[1;33m,\u001b[0m\u001b[1;36m7\u001b[0m\u001b[1;33m,\u001b[0m\u001b[1;36m8\u001b[0m\u001b[1;33m,\u001b[0m\u001b[1;36m9\u001b[0m\u001b[1;33m,\u001b[0m\u001b[1;36m10\u001b[0m\u001b[1;33m]\u001b[0m\u001b[1;33m\u001b[0m\u001b[1;33m\u001b[0m\u001b[0m\n\u001b[1;32m----> 2\u001b[1;33m \u001b[0mprint\u001b[0m\u001b[1;33m(\u001b[0m\u001b[0mc\u001b[0m\u001b[1;33m[\u001b[0m\u001b[1;36m11\u001b[0m\u001b[1;33m]\u001b[0m\u001b[1;33m)\u001b[0m\u001b[1;33m\u001b[0m\u001b[1;33m\u001b[0m\u001b[0m\n\u001b[0m",
      "\u001b[1;31mIndexError\u001b[0m: list index out of range"
     ]
    }
   ],
   "source": [
    "#7b - Referring to the 12th item of a list that has only 10 items\n",
    "\n",
    "c=[1,2,3,4,5,6,7,8,9,10]\n",
    "print(c[11])\n"
   ]
  },
  {
   "cell_type": "code",
   "execution_count": 31,
   "metadata": {},
   "outputs": [
    {
     "ename": "ValueError",
     "evalue": "math domain error",
     "output_type": "error",
     "traceback": [
      "\u001b[1;31m---------------------------------------------------------------------------\u001b[0m",
      "\u001b[1;31mValueError\u001b[0m                                Traceback (most recent call last)",
      "\u001b[1;32m<ipython-input-31-a08c275a2614>\u001b[0m in \u001b[0;36m<module>\u001b[1;34m\u001b[0m\n\u001b[0;32m      1\u001b[0m \u001b[1;32mimport\u001b[0m \u001b[0mmath\u001b[0m\u001b[1;33m\u001b[0m\u001b[1;33m\u001b[0m\u001b[0m\n\u001b[1;32m----> 2\u001b[1;33m \u001b[0mprint\u001b[0m\u001b[1;33m(\u001b[0m\u001b[0mmath\u001b[0m\u001b[1;33m.\u001b[0m\u001b[0msqrt\u001b[0m\u001b[1;33m(\u001b[0m\u001b[1;33m-\u001b[0m\u001b[1;36m1.0\u001b[0m\u001b[1;33m)\u001b[0m\u001b[1;33m)\u001b[0m\u001b[1;33m\u001b[0m\u001b[1;33m\u001b[0m\u001b[0m\n\u001b[0m",
      "\u001b[1;31mValueError\u001b[0m: math domain error"
     ]
    }
   ],
   "source": [
    "#7c - Using a value that is out of range for a function’s input\n",
    "\n",
    "import math\n",
    "print(math.sqrt(-1.0))"
   ]
  },
  {
   "cell_type": "code",
   "execution_count": 32,
   "metadata": {},
   "outputs": [
    {
     "ename": "NameError",
     "evalue": "name 'x' is not defined",
     "output_type": "error",
     "traceback": [
      "\u001b[1;31m---------------------------------------------------------------------------\u001b[0m",
      "\u001b[1;31mNameError\u001b[0m                                 Traceback (most recent call last)",
      "\u001b[1;32m<ipython-input-32-fc17d851ef81>\u001b[0m in \u001b[0;36m<module>\u001b[1;34m\u001b[0m\n\u001b[1;32m----> 1\u001b[1;33m \u001b[0mprint\u001b[0m\u001b[1;33m(\u001b[0m\u001b[0mx\u001b[0m\u001b[1;33m)\u001b[0m\u001b[1;33m\u001b[0m\u001b[1;33m\u001b[0m\u001b[0m\n\u001b[0m",
      "\u001b[1;31mNameError\u001b[0m: name 'x' is not defined"
     ]
    }
   ],
   "source": [
    "#7d - Using an undeclared variable\n",
    "\n",
    "print(x)"
   ]
  },
  {
   "cell_type": "code",
   "execution_count": 33,
   "metadata": {},
   "outputs": [
    {
     "ename": "FileNotFoundError",
     "evalue": "[Errno 2] No such file or directory: 'error.txt'",
     "output_type": "error",
     "traceback": [
      "\u001b[1;31m---------------------------------------------------------------------------\u001b[0m",
      "\u001b[1;31mFileNotFoundError\u001b[0m                         Traceback (most recent call last)",
      "\u001b[1;32m<ipython-input-33-67ed72b27750>\u001b[0m in \u001b[0;36m<module>\u001b[1;34m\u001b[0m\n\u001b[1;32m----> 1\u001b[1;33m \u001b[0merror\u001b[0m \u001b[1;33m=\u001b[0m \u001b[0mopen\u001b[0m\u001b[1;33m(\u001b[0m\u001b[1;34m'error.txt'\u001b[0m\u001b[1;33m)\u001b[0m\u001b[1;33m\u001b[0m\u001b[1;33m\u001b[0m\u001b[0m\n\u001b[0m",
      "\u001b[1;31mFileNotFoundError\u001b[0m: [Errno 2] No such file or directory: 'error.txt'"
     ]
    }
   ],
   "source": [
    "#7e - Trying to open a file that does not exist\n",
    "\n",
    "error = open('error.txt')"
   ]
  },
  {
   "cell_type": "markdown",
   "metadata": {},
   "source": [
    "## Question 8\n",
    "\n",
    "Encryption is the process of hiding the meaning of a text by substituting letters in the message with other letters, according to some system. If the process is successful, no one but the intended recipient can understand the encrypted message.<br> Cryptanalysis refers to attempts to undo the encryption, even if some details of the encryption are unknown (for example, if an encrypted message has been intercepted). The first step of cryptanalysis is often to build up a table of letter frequencies in the encrypted text.<br>Assume that the string letters is already defined as 'abcdefghijklmnopqrstuvwxyz'. <br>Write a function called frequencies() that takes a string as its only parameter, and returns a list of integers, showing the number of times each character appears in the text. Your function may ignore any characters that are not in letters."
   ]
  },
  {
   "cell_type": "code",
   "execution_count": 4,
   "metadata": {},
   "outputs": [
    {
     "name": "stdout",
     "output_type": "stream",
     "text": [
      "[1, 1, 1, 3, 5, 1, 1, 2, 1, 0, 1, 0, 1, 2, 4, 0, 1, 2, 0, 2, 1, 0, 1, 1, 0, 0]\n"
     ]
    }
   ],
   "source": [
    "#To show the number of times each character appears in the text\n",
    "\n",
    "def frequencies(s):\n",
    "\n",
    "    letters = 'abcdefghijklmnopqrstuvwxyz'\n",
    "    freq=[]\n",
    "    \n",
    "    #check if number of words in the string are more than 1\n",
    "    if len(s.split()) > 1:\n",
    "        \n",
    "        #check occurrence of each character and store in a list\n",
    "        for i in range(len(letters)): \n",
    "            freq.append(s.count(letters[i]))\n",
    "        print(freq)\n",
    "        \n",
    "frequencies('The quick red fox got bored and went home.')\n",
    "\n",
    "frequencies('apple')"
   ]
  },
  {
   "cell_type": "markdown",
   "metadata": {},
   "source": [
    "## Question 9\n",
    "\n",
    "The Sieve of Erastophenes is an algorithm -- known to ancient Greeks -- that finds all prime numbers up to a given number n. It does this by first creating a list L from 2 to n and an (initially empty) list primeL. The algorithm then takes the first number in list L (2) and appends it to list primeL, and then removes 2 and all its multiples (4,6,8,10,12, ...) from L. The algorithm then takes the new first number in L (3) and appends it to list primeL, and then removes from L 3 and all its remaining multiples (9,15,21,...). So, in every iteration, the first number of list L is appended to list primeL and then it and its multiples are removed from list L. The iterations stop when list L becomes empty. Write a function sieve() that takes as input a positive integer n, implements the above algorithm, and returns a list of all prime numbers up to n."
   ]
  },
  {
   "cell_type": "code",
   "execution_count": 10,
   "metadata": {},
   "outputs": [
    {
     "name": "stdout",
     "output_type": "stream",
     "text": [
      "[2, 3, 5, 7, 11, 13, 17, 19, 23, 29, 31, 37, 41, 43, 47, 53, 59, 61, 67, 71, 73, 79, 83, 89, 97]\n",
      "[2, 3, 5, 7, 11, 13, 17, 19, 23, 29, 31, 37, 41, 43, 47, 53, 59, 61, 67, 71, 73, 79, 83, 89, 97, 101, 103, 107, 109, 113, 127, 131, 137, 139, 149, 151, 157, 163, 167, 173, 179, 181, 191, 193, 197, 199, 211, 223, 227, 229, 233, 239, 241, 251, 257, 263, 269, 271, 277, 281, 283, 293, 307, 311, 313, 317, 331, 337, 347, 349, 353, 359, 367]\n",
      "[2, 3, 5, 7, 11, 13, 17, 19, 23, 29, 31]\n"
     ]
    }
   ],
   "source": [
    "#find all prime numbers up to a given number using Sieve of Erastophenes algorithm \n",
    "\n",
    "def sieve(n):\n",
    "    #creating a list L from 2 to n\n",
    "    L = list(range(2, n+1))\n",
    "    primeL=[]\n",
    "    \n",
    "    while len(L) != 0:\n",
    "        for i in L :\n",
    "            \n",
    "            #takes the first number in list L and appends it to list primeL\n",
    "            firstNum = L[0]\n",
    "            primeL.append(firstNum)\n",
    "        \n",
    "            #removes the first number and all its multiples from L\n",
    "            for j in L:\n",
    "                if j % firstNum == 0:\n",
    "                    L.remove(j)\n",
    "            \n",
    "    print(primeL)\n",
    "    \n",
    "    \n",
    "sieve(100)\n",
    "\n",
    "sieve(368)\n",
    "\n",
    "sieve(32)"
   ]
  },
  {
   "cell_type": "markdown",
   "metadata": {},
   "source": [
    "## Question 10\n",
    "\n",
    "Implement function triangleArea(a,b,c) that takes as input the lengths of the 3 sides of a triangle and returns the area of the triangle. By Heron's formula, the area of a triangle with side lengths a, b, and c is s(s - a)(s -b)(s -c), where s = (a+b+c) /2."
   ]
  },
  {
   "cell_type": "code",
   "execution_count": 16,
   "metadata": {},
   "outputs": [
    {
     "name": "stdout",
     "output_type": "stream",
     "text": [
      "1.7320508075688772\n"
     ]
    }
   ],
   "source": [
    "#get area of a triangle using Heron's Formula\n",
    "\n",
    "import math\n",
    "\n",
    "def triangleArea(a,b,c):\n",
    "    s = (a+b+c) /2\n",
    "    area = math.sqrt(s*(s - a)*(s -b)*(s -c))\n",
    "    print (area)\n",
    "\n",
    "triangleArea(2,2,2)"
   ]
  }
 ],
 "metadata": {
  "kernelspec": {
   "display_name": "Python 3",
   "language": "python",
   "name": "python3"
  },
  "language_info": {
   "codemirror_mode": {
    "name": "ipython",
    "version": 3
   },
   "file_extension": ".py",
   "mimetype": "text/x-python",
   "name": "python",
   "nbconvert_exporter": "python",
   "pygments_lexer": "ipython3",
   "version": "3.7.6"
  }
 },
 "nbformat": 4,
 "nbformat_minor": 4
}
