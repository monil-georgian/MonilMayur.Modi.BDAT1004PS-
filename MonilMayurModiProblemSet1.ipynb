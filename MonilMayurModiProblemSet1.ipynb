{
 "cells": [
  {
   "cell_type": "markdown",
   "metadata": {},
   "source": [
    "## Question 1"
   ]
  },
  {
   "cell_type": "code",
   "execution_count": 71,
   "metadata": {},
   "outputs": [
    {
     "name": "stdout",
     "output_type": "stream",
     "text": [
      "5 :            <class 'int'>\n",
      "5.0 :          <class 'float'>\n",
      "5 > 1 :        <class 'bool'>\n",
      "'5' :          <class 'str'>\n",
      "5 * 2 :        <class 'int'>\n",
      "'5' * 2 :      <class 'str'>\n",
      "'5' + '2' :    <class 'str'>\n",
      "5 / 2 :        <class 'float'>\n",
      "5 // 2 :       <class 'int'>\n",
      "[5, 2, 1] :    <class 'list'>\n",
      "5 in [1, 4, 6] : <class 'bool'>\n",
      "math.pi :      <class 'float'>\n"
     ]
    }
   ],
   "source": [
    "a = type(5)\n",
    "print(\"5 :            \" + str(a))\n",
    "\n",
    "b = type(5.0)\n",
    "print(\"5.0 :          \" + str(b))\n",
    "\n",
    "c = type(5 > 1)\n",
    "print(\"5 > 1 :        \" + str(c))\n",
    "\n",
    "d = type('5')\n",
    "print(\"'5' :          \" + str(d))\n",
    "\n",
    "e = type(5 * 2)\n",
    "print(\"5 * 2 :        \" + str(e))\n",
    "\n",
    "f = type('5' * 2)\n",
    "print(\"'5' * 2 :      \" + str(f))\n",
    "\n",
    "g = type('5' + '2')\n",
    "print(\"'5' + '2' :    \" + str(g))\n",
    "\n",
    "h = type(5 / 2)\n",
    "print(\"5 / 2 :        \" + str(h))\n",
    "\n",
    "i = type(5 // 2)\n",
    "print(\"5 // 2 :       \" + str(i))\n",
    "\n",
    "j = type([5, 2, 1])\n",
    "print(\"[5, 2, 1] :    \" + str(j))\n",
    "\n",
    "k = type(5 in [1, 4, 6])\n",
    "print(\"5 in [1, 4, 6] : \" + str(k))\n",
    "\n",
    "import math\n",
    "l = type(math.pi)\n",
    "print(\"math.pi :      \" + str(l))"
   ]
  },
  {
   "cell_type": "markdown",
   "metadata": {},
   "source": [
    "## Question 2"
   ]
  },
  {
   "cell_type": "code",
   "execution_count": 16,
   "metadata": {},
   "outputs": [
    {
     "data": {
      "text/plain": [
       "34"
      ]
     },
     "execution_count": 16,
     "metadata": {},
     "output_type": "execute_result"
    }
   ],
   "source": [
    "#2a - check the number of letters in a string\n",
    "\n",
    "s = 'Supercalifragilisticexpialidocious'\n",
    "len(s)"
   ]
  },
  {
   "cell_type": "code",
   "execution_count": 15,
   "metadata": {
    "scrolled": true
   },
   "outputs": [
    {
     "data": {
      "text/plain": [
       "True"
      ]
     },
     "execution_count": 15,
     "metadata": {},
     "output_type": "execute_result"
    }
   ],
   "source": [
    "#2b - check if a string contain a word as a substring\n",
    "\n",
    "s = 'Supercalifragilisticexpialidocious'\n",
    "'ice' in s"
   ]
  },
  {
   "cell_type": "code",
   "execution_count": 73,
   "metadata": {},
   "outputs": [
    {
     "name": "stdout",
     "output_type": "stream",
     "text": [
      "The longest word is Bababadalgharaghtakamminarronnkonn\n"
     ]
    }
   ],
   "source": [
    "#2c - finding the longest string amongst 3 strings\n",
    "\n",
    "s = 'Supercalifragilisticexpialidocious'\n",
    "s2 = 'Honorificabilitudinitatibus'\n",
    "s3 = 'Bababadalgharaghtakamminarronnkonn'\n",
    "#get length of each string\n",
    "ls = len(s)\n",
    "ls2 = len(s2)\n",
    "ls3 = len(s3)\n",
    "\n",
    "#check which of the 3 string is the longest\n",
    "if ls>ls2 & ls>ls3 :\n",
    "    print(\"The longest word is \" + s)\n",
    "elif ls2>ls & ls2>ls3 :\n",
    "    print(\"The longest word is \" + s2)\n",
    "else:\n",
    "    print(\"The longest word is \" + s3)"
   ]
  },
  {
   "cell_type": "code",
   "execution_count": 18,
   "metadata": {},
   "outputs": [
    {
     "name": "stdout",
     "output_type": "stream",
     "text": [
      "The first composer in dictionary : Bartok\n",
      "The last composer in dictionary : Buxtehude\n"
     ]
    }
   ],
   "source": [
    "#2d - find first and last composer in the dictionary\n",
    "\n",
    "composers = [\"Berlioz\", \"Borodin\", \"Brian\", \"Bartok\", \"Bellini\", \"Buxtehude\", \"Bernstein\"]\n",
    "\n",
    "#sort the composers alphabetically\n",
    "dictionary = sorted(composers)\n",
    "first = dictionary[0]\n",
    "print (\"The first composer in dictionary : \" +  str(first))\n",
    "last = dictionary[-1]\n",
    "print (\"The last composer in dictionary : \" +  str(last)) "
   ]
  },
  {
   "cell_type": "markdown",
   "metadata": {},
   "source": [
    "## Question 3"
   ]
  },
  {
   "cell_type": "code",
   "execution_count": 28,
   "metadata": {},
   "outputs": [
    {
     "name": "stdout",
     "output_type": "stream",
     "text": [
      "The point lies inside the rectangle: True\n",
      "The point lies inside the rectangle: False\n"
     ]
    }
   ],
   "source": [
    "#3a - check if point(x,y) falls inside the rectangle with lower left(x1,y1) and upper right corner(x2,y2)\n",
    "\n",
    "def inside(x, y, x1, y1, x2, y2):\n",
    "    if (x > x1 and x < x2 and y > y1 and y < y2) : \n",
    "        return True\n",
    "    else:\n",
    "        return False\n",
    "\n",
    "#inside(1,1,0,0,2,3)    \n",
    "print (\"The point lies inside the rectangle: \" + str(inside(1,1,0,0,2,3)))\n",
    "\n",
    "#inside(-1,-1,0,0,2,3)\n",
    "print (\"The point lies inside the rectangle: \" + str(inside(-1,-1,0,0,2,3)))"
   ]
  },
  {
   "cell_type": "code",
   "execution_count": 35,
   "metadata": {},
   "outputs": [
    {
     "name": "stdout",
     "output_type": "stream",
     "text": [
      "The point does not lie in both the rectangles\n"
     ]
    }
   ],
   "source": [
    "#3b - check whether a point lies in both rectangles\n",
    "\n",
    "rect1 = inside(1,1,0.3,0.5,1.1,0.7)\n",
    "\n",
    "rect2 = inside(1,1,0.5,0.2,1.1,2)\n",
    "\n",
    "if rect1 == True & rect2 == True:\n",
    "    print(\"The point lies in both the rectangles\")\n",
    "else:\n",
    "    print(\"The point does not lie in both the rectangles\")"
   ]
  },
  {
   "cell_type": "markdown",
   "metadata": {},
   "source": [
    "## Question 4"
   ]
  },
  {
   "cell_type": "code",
   "execution_count": 40,
   "metadata": {},
   "outputs": [
    {
     "name": "stdout",
     "output_type": "stream",
     "text": [
      "appyhay\n",
      "enterway\n"
     ]
    }
   ],
   "source": [
    "#convert a word in its pig-Latin form\n",
    "\n",
    "#define vowels in lower and upper case as users can enter words in any case\n",
    "vowels = ('A', 'a', 'E', 'e', 'I', 'i', 'O', 'o', 'U', 'u')\n",
    "\n",
    "def pig(s):\n",
    "    #check if 1st letter is consonant or vowel\n",
    "    if (s[0] in vowels):\n",
    "        #append \"way\" at the end of the word and give output in lower case\n",
    "        print((s + 'way').lower())\n",
    "    else:\n",
    "        #slice after 1st letter and append the 1st letter and \"ay\" after the slice and give output in lower case\n",
    "        print((s[1:] + s[0] + 'ay').lower())\n",
    "\n",
    "pig('happy')\n",
    "\n",
    "pig('Enter')"
   ]
  },
  {
   "cell_type": "markdown",
   "metadata": {},
   "source": [
    "## Question 5"
   ]
  },
  {
   "cell_type": "code",
   "execution_count": 66,
   "metadata": {},
   "outputs": [
    {
     "name": "stdout",
     "output_type": "stream",
     "text": [
      "There are 15 patients of blood type A.\n",
      "There are 1 patient of blood type B.\n",
      "There are 13 patients of blood type AB.\n",
      "There are 15 patients of blood type O.\n",
      "There are 0 patients of blood type OO.\n"
     ]
    }
   ],
   "source": [
    "#read the file with name 'name' and report the number of patients there are in each bloodtype\n",
    "\n",
    "def bldcount(name):\n",
    "    with open (name, 'r') as bld:\n",
    "        #split words using space delimiter and create list \"type\"\n",
    "        type=(bld.read().split(' '))\n",
    "    bld.close()\n",
    "    \n",
    "    #count the occurrence of each blood type\n",
    "    ouc = type.count('A')\n",
    "    print('There are {} patients of blood type A.'.format(ouc))\n",
    "    \n",
    "    ouc = type.count('B')\n",
    "    print('There are {} patient of blood type B.'.format(ouc))\n",
    "    \n",
    "    ouc = type.count('AB')\n",
    "    print('There are {} patients of blood type AB.'.format(ouc))\n",
    "    \n",
    "    ouc = type.count('O')\n",
    "    print('There are {} patients of blood type O.'.format(ouc))\n",
    "    \n",
    "    ouc = type.count('OO')\n",
    "    print('There are {} patients of blood type OO.'.format(ouc))\n",
    "\n",
    "bldcount('bloodtype.txt')"
   ]
  },
  {
   "cell_type": "markdown",
   "metadata": {},
   "source": [
    "## Question 6"
   ]
  },
  {
   "cell_type": "code",
   "execution_count": 5,
   "metadata": {},
   "outputs": [
    {
     "name": "stdout",
     "output_type": "stream",
     "text": [
      "The converted amount in USD is 122.96544\n",
      "The converted amount in USD is 1.241401\n"
     ]
    }
   ],
   "source": [
    "#convert the amount in given currency to USD\n",
    "\n",
    "def curconv(cur,amt):\n",
    "    raw_data=[]\n",
    "    with open ('currencies.txt','r') as fin:\n",
    "        #split words using space delimiter and add to list raw_data\n",
    "        for line in fin:\n",
    "            f=(line.split(' '))\n",
    "            raw_data.append(f)\n",
    "        fin.close()\n",
    "    for i in range(len(raw_data)):\n",
    "        #match the input currency with values in list and fetch conversion value from the second column\n",
    "            if cur == raw_data[i][0]:\n",
    "                final = float(raw_data[i][1])\n",
    "                final = final*amt\n",
    "                return final \n",
    "            \n",
    "usd = curconv('EUR',100)\n",
    "print(\"The converted amount in USD is \" + str(usd))\n",
    "\n",
    "usd = curconv('JPY',100)\n",
    "print(\"The converted amount in USD is \" + str(usd))"
   ]
  },
  {
   "cell_type": "markdown",
   "metadata": {},
   "source": [
    "## Question 7"
   ]
  },
  {
   "cell_type": "code",
   "execution_count": 29,
   "metadata": {},
   "outputs": [
    {
     "ename": "SyntaxError",
     "evalue": "invalid character in identifier (<ipython-input-29-b1fb858b01cc>, line 1)",
     "output_type": "error",
     "traceback": [
      "\u001b[1;36m  File \u001b[1;32m\"<ipython-input-29-b1fb858b01cc>\"\u001b[1;36m, line \u001b[1;32m1\u001b[0m\n\u001b[1;33m    b = 6 + ‘a’\u001b[0m\n\u001b[1;37m              ^\u001b[0m\n\u001b[1;31mSyntaxError\u001b[0m\u001b[1;31m:\u001b[0m invalid character in identifier\n"
     ]
    }
   ],
   "source": [
    "#7a - Trying to add incompatible variables\n",
    "\n",
    "b = 6 + ‘a’\n",
    "print(b)"
   ]
  },
  {
   "cell_type": "code",
   "execution_count": 30,
   "metadata": {},
   "outputs": [
    {
     "ename": "IndexError",
     "evalue": "list index out of range",
     "output_type": "error",
     "traceback": [
      "\u001b[1;31m---------------------------------------------------------------------------\u001b[0m",
      "\u001b[1;31mIndexError\u001b[0m                                Traceback (most recent call last)",
      "\u001b[1;32m<ipython-input-30-d8089c3e9ba3>\u001b[0m in \u001b[0;36m<module>\u001b[1;34m\u001b[0m\n\u001b[0;32m      1\u001b[0m \u001b[0mc\u001b[0m\u001b[1;33m=\u001b[0m\u001b[1;33m[\u001b[0m\u001b[1;36m1\u001b[0m\u001b[1;33m,\u001b[0m\u001b[1;36m2\u001b[0m\u001b[1;33m,\u001b[0m\u001b[1;36m3\u001b[0m\u001b[1;33m,\u001b[0m\u001b[1;36m4\u001b[0m\u001b[1;33m,\u001b[0m\u001b[1;36m5\u001b[0m\u001b[1;33m,\u001b[0m\u001b[1;36m6\u001b[0m\u001b[1;33m,\u001b[0m\u001b[1;36m7\u001b[0m\u001b[1;33m,\u001b[0m\u001b[1;36m8\u001b[0m\u001b[1;33m,\u001b[0m\u001b[1;36m9\u001b[0m\u001b[1;33m,\u001b[0m\u001b[1;36m10\u001b[0m\u001b[1;33m]\u001b[0m\u001b[1;33m\u001b[0m\u001b[1;33m\u001b[0m\u001b[0m\n\u001b[1;32m----> 2\u001b[1;33m \u001b[0mprint\u001b[0m\u001b[1;33m(\u001b[0m\u001b[0mc\u001b[0m\u001b[1;33m[\u001b[0m\u001b[1;36m11\u001b[0m\u001b[1;33m]\u001b[0m\u001b[1;33m)\u001b[0m\u001b[1;33m\u001b[0m\u001b[1;33m\u001b[0m\u001b[0m\n\u001b[0m",
      "\u001b[1;31mIndexError\u001b[0m: list index out of range"
     ]
    }
   ],
   "source": [
    "#7b - Referring to the 12th item of a list that has only 10 items\n",
    "\n",
    "c=[1,2,3,4,5,6,7,8,9,10]\n",
    "print(c[11])\n"
   ]
  },
  {
   "cell_type": "code",
   "execution_count": 31,
   "metadata": {},
   "outputs": [
    {
     "ename": "ValueError",
     "evalue": "math domain error",
     "output_type": "error",
     "traceback": [
      "\u001b[1;31m---------------------------------------------------------------------------\u001b[0m",
      "\u001b[1;31mValueError\u001b[0m                                Traceback (most recent call last)",
      "\u001b[1;32m<ipython-input-31-a08c275a2614>\u001b[0m in \u001b[0;36m<module>\u001b[1;34m\u001b[0m\n\u001b[0;32m      1\u001b[0m \u001b[1;32mimport\u001b[0m \u001b[0mmath\u001b[0m\u001b[1;33m\u001b[0m\u001b[1;33m\u001b[0m\u001b[0m\n\u001b[1;32m----> 2\u001b[1;33m \u001b[0mprint\u001b[0m\u001b[1;33m(\u001b[0m\u001b[0mmath\u001b[0m\u001b[1;33m.\u001b[0m\u001b[0msqrt\u001b[0m\u001b[1;33m(\u001b[0m\u001b[1;33m-\u001b[0m\u001b[1;36m1.0\u001b[0m\u001b[1;33m)\u001b[0m\u001b[1;33m)\u001b[0m\u001b[1;33m\u001b[0m\u001b[1;33m\u001b[0m\u001b[0m\n\u001b[0m",
      "\u001b[1;31mValueError\u001b[0m: math domain error"
     ]
    }
   ],
   "source": [
    "#7c - Using a value that is out of range for a function’s input\n",
    "\n",
    "import math\n",
    "print(math.sqrt(-1.0))"
   ]
  },
  {
   "cell_type": "code",
   "execution_count": 32,
   "metadata": {},
   "outputs": [
    {
     "ename": "NameError",
     "evalue": "name 'x' is not defined",
     "output_type": "error",
     "traceback": [
      "\u001b[1;31m---------------------------------------------------------------------------\u001b[0m",
      "\u001b[1;31mNameError\u001b[0m                                 Traceback (most recent call last)",
      "\u001b[1;32m<ipython-input-32-fc17d851ef81>\u001b[0m in \u001b[0;36m<module>\u001b[1;34m\u001b[0m\n\u001b[1;32m----> 1\u001b[1;33m \u001b[0mprint\u001b[0m\u001b[1;33m(\u001b[0m\u001b[0mx\u001b[0m\u001b[1;33m)\u001b[0m\u001b[1;33m\u001b[0m\u001b[1;33m\u001b[0m\u001b[0m\n\u001b[0m",
      "\u001b[1;31mNameError\u001b[0m: name 'x' is not defined"
     ]
    }
   ],
   "source": [
    "#7d - Using an undeclared variable\n",
    "\n",
    "print(x)"
   ]
  },
  {
   "cell_type": "code",
   "execution_count": 33,
   "metadata": {},
   "outputs": [
    {
     "ename": "FileNotFoundError",
     "evalue": "[Errno 2] No such file or directory: 'error.txt'",
     "output_type": "error",
     "traceback": [
      "\u001b[1;31m---------------------------------------------------------------------------\u001b[0m",
      "\u001b[1;31mFileNotFoundError\u001b[0m                         Traceback (most recent call last)",
      "\u001b[1;32m<ipython-input-33-67ed72b27750>\u001b[0m in \u001b[0;36m<module>\u001b[1;34m\u001b[0m\n\u001b[1;32m----> 1\u001b[1;33m \u001b[0merror\u001b[0m \u001b[1;33m=\u001b[0m \u001b[0mopen\u001b[0m\u001b[1;33m(\u001b[0m\u001b[1;34m'error.txt'\u001b[0m\u001b[1;33m)\u001b[0m\u001b[1;33m\u001b[0m\u001b[1;33m\u001b[0m\u001b[0m\n\u001b[0m",
      "\u001b[1;31mFileNotFoundError\u001b[0m: [Errno 2] No such file or directory: 'error.txt'"
     ]
    }
   ],
   "source": [
    "#7e - Trying to open a file that does not exist\n",
    "\n",
    "error = open('error.txt')"
   ]
  },
  {
   "cell_type": "markdown",
   "metadata": {},
   "source": [
    "## Question 8"
   ]
  },
  {
   "cell_type": "code",
   "execution_count": 4,
   "metadata": {},
   "outputs": [
    {
     "name": "stdout",
     "output_type": "stream",
     "text": [
      "[1, 1, 1, 3, 5, 1, 1, 2, 1, 0, 1, 0, 1, 2, 4, 0, 1, 2, 0, 2, 1, 0, 1, 1, 0, 0]\n"
     ]
    }
   ],
   "source": [
    "#To show the number of times each character appears in the text\n",
    "\n",
    "def frequencies(s):\n",
    "\n",
    "    letters = 'abcdefghijklmnopqrstuvwxyz'\n",
    "    freq=[]\n",
    "    \n",
    "    #check if number of words in the string are more than 1\n",
    "    if len(s.split()) > 1:\n",
    "        \n",
    "        #check occurrence of each character and store in a list\n",
    "        for i in range(len(letters)): \n",
    "            freq.append(s.count(letters[i]))\n",
    "        print(freq)\n",
    "        \n",
    "frequencies('The quick red fox got bored and went home.')\n",
    "\n",
    "frequencies('apple')"
   ]
  },
  {
   "cell_type": "markdown",
   "metadata": {},
   "source": [
    "## Question 9"
   ]
  },
  {
   "cell_type": "code",
   "execution_count": 10,
   "metadata": {},
   "outputs": [
    {
     "name": "stdout",
     "output_type": "stream",
     "text": [
      "[2, 3, 5, 7, 11, 13, 17, 19, 23, 29, 31, 37, 41, 43, 47, 53, 59, 61, 67, 71, 73, 79, 83, 89, 97]\n",
      "[2, 3, 5, 7, 11, 13, 17, 19, 23, 29, 31, 37, 41, 43, 47, 53, 59, 61, 67, 71, 73, 79, 83, 89, 97, 101, 103, 107, 109, 113, 127, 131, 137, 139, 149, 151, 157, 163, 167, 173, 179, 181, 191, 193, 197, 199, 211, 223, 227, 229, 233, 239, 241, 251, 257, 263, 269, 271, 277, 281, 283, 293, 307, 311, 313, 317, 331, 337, 347, 349, 353, 359, 367]\n",
      "[2, 3, 5, 7, 11, 13, 17, 19, 23, 29, 31]\n"
     ]
    }
   ],
   "source": [
    "#find all prime numbers up to a given number using Sieve of Erastophenes algorithm \n",
    "\n",
    "def sieve(n):\n",
    "    #creating a list L from 2 to n\n",
    "    L = list(range(2, n+1))\n",
    "    primeL=[]\n",
    "    \n",
    "    while len(L) != 0:\n",
    "        for i in L :\n",
    "            \n",
    "            #takes the first number in list L and appends it to list primeL\n",
    "            firstNum = L[0]\n",
    "            primeL.append(firstNum)\n",
    "        \n",
    "        \n",
    "            #removes the first number and all its multiples from L\n",
    "            for j in L:\n",
    "                if j % firstNum == 0:\n",
    "                    L.remove(j)\n",
    "            \n",
    "    \n",
    "    print(primeL)\n",
    "    \n",
    "    \n",
    "sieve(100)\n",
    "\n",
    "sieve(368)\n",
    "\n",
    "sieve(32)"
   ]
  },
  {
   "cell_type": "markdown",
   "metadata": {},
   "source": [
    "## Question 10"
   ]
  },
  {
   "cell_type": "code",
   "execution_count": 16,
   "metadata": {},
   "outputs": [
    {
     "name": "stdout",
     "output_type": "stream",
     "text": [
      "1.7320508075688772\n"
     ]
    }
   ],
   "source": [
    "#get area of a triangle using Heron's Formula\n",
    "\n",
    "import math\n",
    "\n",
    "def triangleArea(a,b,c):\n",
    "    s = (a+b+c) /2\n",
    "    area = math.sqrt(s*(s - a)*(s -b)*(s -c))\n",
    "    print (area)\n",
    "\n",
    "triangleArea(2,2,2)"
   ]
  }
 ],
 "metadata": {
  "kernelspec": {
   "display_name": "Python 3",
   "language": "python",
   "name": "python3"
  },
  "language_info": {
   "codemirror_mode": {
    "name": "ipython",
    "version": 3
   },
   "file_extension": ".py",
   "mimetype": "text/x-python",
   "name": "python",
   "nbconvert_exporter": "python",
   "pygments_lexer": "ipython3",
   "version": "3.7.6"
  }
 },
 "nbformat": 4,
 "nbformat_minor": 4
}
